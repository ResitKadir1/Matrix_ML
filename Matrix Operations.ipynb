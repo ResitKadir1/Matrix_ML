{
 "cells": [
  {
   "cell_type": "code",
   "execution_count": 1,
   "metadata": {},
   "outputs": [],
   "source": [
    "#Load Library\n",
    "import numpy as np"
   ]
  },
  {
   "cell_type": "code",
   "execution_count": 2,
   "metadata": {},
   "outputs": [
    {
     "data": {
      "text/plain": [
       "array([1, 2, 3])"
      ]
     },
     "execution_count": 2,
     "metadata": {},
     "output_type": "execute_result"
    }
   ],
   "source": [
    "#Creating Matrix 1-D\n",
    "#Create a vector as a Row\n",
    "vector_row = np.array([1,2,3])\n",
    "vector_row"
   ]
  },
  {
   "cell_type": "code",
   "execution_count": 4,
   "metadata": {},
   "outputs": [
    {
     "data": {
      "text/plain": [
       "array([[1],\n",
       "       [2],\n",
       "       [3]])"
      ]
     },
     "execution_count": 4,
     "metadata": {},
     "output_type": "execute_result"
    }
   ],
   "source": [
    "#Create vector as a Column\n",
    "vector_column = np.array([[1],[2],[3]])\n",
    "vector_column"
   ]
  },
  {
   "cell_type": "code",
   "execution_count": 5,
   "metadata": {},
   "outputs": [
    {
     "name": "stdout",
     "output_type": "stream",
     "text": [
      "[[1 2 3]\n",
      " [4 5 6]]\n"
     ]
    }
   ],
   "source": [
    "#Create 2-DMatrix\n",
    "matrix = np.array([[1,2,3],[4,5,6]])\n",
    "print(matrix)"
   ]
  },
  {
   "cell_type": "code",
   "execution_count": 6,
   "metadata": {},
   "outputs": [
    {
     "name": "stdout",
     "output_type": "stream",
     "text": [
      "[[0 0]\n",
      " [0 1]\n",
      " [3 0]]\n"
     ]
    }
   ],
   "source": [
    "#Creating Sparse MAtrix (mostly Zeros)\n",
    "matrix = np.array([[0,0],[0,1],[3,0]])\n",
    "print(matrix)"
   ]
  },
  {
   "cell_type": "code",
   "execution_count": 11,
   "metadata": {},
   "outputs": [
    {
     "ename": "NameError",
     "evalue": "name 'sparse' is not defined",
     "output_type": "error",
     "traceback": [
      "\u001b[0;31m---------------------------------------------------------------------------\u001b[0m",
      "\u001b[0;31mNameError\u001b[0m                                 Traceback (most recent call last)",
      "\u001b[0;32m<ipython-input-11-681fc4d6c684>\u001b[0m in \u001b[0;36m<module>\u001b[0;34m\u001b[0m\n\u001b[1;32m      1\u001b[0m \u001b[0;31m#Create Compressed Sparse Row(CSR) matrix\u001b[0m\u001b[0;34m\u001b[0m\u001b[0;34m\u001b[0m\u001b[0;34m\u001b[0m\u001b[0m\n\u001b[0;32m----> 2\u001b[0;31m \u001b[0mmatrix_sparse\u001b[0m \u001b[0;34m=\u001b[0m \u001b[0msparse\u001b[0m\u001b[0;34m.\u001b[0m\u001b[0mcsr_matrix\u001b[0m\u001b[0;34m(\u001b[0m\u001b[0mmatrix\u001b[0m\u001b[0;34m)\u001b[0m\u001b[0;34m\u001b[0m\u001b[0;34m\u001b[0m\u001b[0m\n\u001b[0m\u001b[1;32m      3\u001b[0m \u001b[0mprint\u001b[0m\u001b[0;34m(\u001b[0m\u001b[0mmatrix_sparse\u001b[0m\u001b[0;34m)\u001b[0m\u001b[0;34m\u001b[0m\u001b[0;34m\u001b[0m\u001b[0m\n",
      "\u001b[0;31mNameError\u001b[0m: name 'sparse' is not defined"
     ]
    }
   ],
   "source": [
    "#Create Compressed Sparse Row(CSR) matrix\n",
    "matrix_sparse = sparse.csr_matrix(matrix)\n",
    "print(matrix_sparse)"
   ]
  },
  {
   "cell_type": "code",
   "execution_count": 14,
   "metadata": {},
   "outputs": [
    {
     "name": "stdout",
     "output_type": "stream",
     "text": [
      "[[1 2 3]\n",
      " [4 5 6]\n",
      " [7 8 9]]\n",
      "3\n",
      "5\n",
      "[1 2 3 4 5 6]\n",
      "[1 2 3]\n",
      "[4 5 6]\n",
      "6\n",
      "[[1 2 3]\n",
      " [4 5 6]]\n",
      "[[2]\n",
      " [5]\n",
      " [8]]\n"
     ]
    }
   ],
   "source": [
    "#Select element from a matrix\n",
    "#Create a Matrix\n",
    "matrix = np.array([[1,2,3],[4,5,6],[7,8,9]])\n",
    "print(matrix)\n",
    "#Create a vector as a Row\n",
    "vector_row = np.array([ 1,2,3,4,5,6 ])\n",
    "#Select 3rd element of Vector\n",
    "print(vector_row[2])\n",
    "#Select 2nd row 2nd column\n",
    "print(matrix[1,1])\n",
    "#Select all elements of a vector\n",
    "print(vector_row[:])\n",
    "#Select everything up to and including the 3rd element\n",
    "print(vector_row[:3])\n",
    "#Select the everything after the 3rd element\n",
    "print(vector_row[3:])\n",
    "#Select the last element\n",
    "print(vector_row[-1])\n",
    "#Select the first 2 rows and all the columns of the matrix\n",
    "print(matrix[:2,:])\n",
    "#Select all rows and the 2nd column of the matrix\n",
    "print(matrix[:,1:2])"
   ]
  },
  {
   "cell_type": "code",
   "execution_count": 18,
   "metadata": {},
   "outputs": [
    {
     "name": "stdout",
     "output_type": "stream",
     "text": [
      "[[1 2 3]\n",
      " [4 5 6]\n",
      " [7 8 9]]\n",
      "***********************************************************\n",
      "(3, 3)\n",
      "***********************************************************\n",
      "9\n",
      "***********************************************************\n",
      "2\n"
     ]
    }
   ],
   "source": [
    "#DESCRIBE A MATRIX\n",
    "#Create a Matrix\n",
    "matrix = np.array([[1,2,3],[4,5,6],[7,8,9]])\n",
    "print(matrix)\n",
    "print(\"***********************************************************\")\n",
    "#View the Number of Rows and Columns\n",
    "print(matrix.shape)\n",
    "print(\"***********************************************************\")\n",
    "#View the number of elements (rows*columns)\n",
    "print(matrix.size)\n",
    "print(\"***********************************************************\")\n",
    "#View the number of Dimensions(2 in this case)\n",
    "print(matrix.ndim)"
   ]
  },
  {
   "cell_type": "code",
   "execution_count": 19,
   "metadata": {},
   "outputs": [
    {
     "name": "stdout",
     "output_type": "stream",
     "text": [
      "[[1 2 3]\n",
      " [4 5 6]\n",
      " [7 8 9]]\n",
      "***********************************************************\n",
      "[[101 102 103]\n",
      " [104 105 106]\n",
      " [107 108 109]]\n"
     ]
    }
   ],
   "source": [
    "#Applying operations to elements\n",
    "\n",
    "#Create a Matrix\n",
    "matrix = np.array([[1,2,3],[4,5,6],[7,8,9]])\n",
    "print(matrix)\n",
    "print(\"***********************************************************\")\n",
    "\n",
    "#Create a function that adds 100 to something\n",
    "add_100 =lambda i: i+100\n",
    "#Convert it into a vectorized function\n",
    "vectorized_add_100= np.vectorize(add_100)\n",
    "#Apply function to all elements in matrix\n",
    "print(vectorized_add_100(matrix))"
   ]
  },
  {
   "cell_type": "code",
   "execution_count": 20,
   "metadata": {},
   "outputs": [
    {
     "name": "stdout",
     "output_type": "stream",
     "text": [
      "[[1 2 3]\n",
      " [4 5 6]\n",
      " [7 8 9]]\n",
      "***********************************************************\n",
      "9\n",
      "***********************************************************\n",
      "1\n",
      "***********************************************************\n",
      "[7 8 9]\n",
      "***********************************************************\n",
      "[3 6 9]\n",
      "***********************************************************\n"
     ]
    }
   ],
   "source": [
    "#Finding the max and min values\n",
    "\n",
    "#Create a Matrix\n",
    "matrix = np.array([[1,2,3],[4,5,6],[7,8,9]])\n",
    "print(matrix)\n",
    "print(\"***********************************************************\")\n",
    "#Return the max element\n",
    "print(np.max(matrix))\n",
    "print(\"***********************************************************\")\n",
    "#Return the min element\n",
    "print(np.min(matrix))\n",
    "print(\"***********************************************************\")\n",
    "#To find the max element in each column\n",
    "print(np.max(matrix,axis=0))\n",
    "print(\"***********************************************************\")\n",
    "#To find the max element in each row\n",
    "print(np.max(matrix,axis=1))#cumulative\n",
    "print(\"***********************************************************\")"
   ]
  },
  {
   "cell_type": "code",
   "execution_count": 21,
   "metadata": {},
   "outputs": [
    {
     "name": "stdout",
     "output_type": "stream",
     "text": [
      "[[1 2 3]\n",
      " [4 5 6]\n",
      " [7 8 9]]\n",
      "***********************************************************\n",
      "5.0\n",
      "***********************************************************\n",
      "2.581988897471611\n",
      "***********************************************************\n",
      "6.666666666666667\n"
     ]
    }
   ],
   "source": [
    "#Calculating Average, Variance and Standard deviation\n",
    "\n",
    "#Create a Matrix\n",
    "matrix = np.array([[1,2,3],[4,5,6],[7,8,9]])\n",
    "print(matrix)\n",
    "print(\"***********************************************************\")\n",
    "#Mean\n",
    "print(np.mean(matrix)) #sum of numbers/len(length of numbers)\n",
    "print(\"***********************************************************\")\n",
    "#Standard Dev.\n",
    "print(np.std(matrix))\n",
    "print(\"***********************************************************\")\n",
    "#Variance\n",
    "print(np.var(matrix))"
   ]
  },
  {
   "cell_type": "code",
   "execution_count": 23,
   "metadata": {},
   "outputs": [
    {
     "name": "stdout",
     "output_type": "stream",
     "text": [
      "[[1 2 3]\n",
      " [4 5 6]\n",
      " [7 8 9]]\n",
      "***********************************************************\n",
      "[[1]\n",
      " [2]\n",
      " [3]\n",
      " [4]\n",
      " [5]\n",
      " [6]\n",
      " [7]\n",
      " [8]\n",
      " [9]]\n",
      "***********************************************************\n",
      "[[1 2 3 4 5 6 7 8 9]]\n",
      "***********************************************************\n",
      "[1 2 3 4 5 6 7 8 9]\n",
      "***********************************************************\n",
      "[1 2 3 4 5 6 7 8 9]\n"
     ]
    }
   ],
   "source": [
    "#Reshaping Arrays\n",
    "\n",
    "#Create a Matrix\n",
    "matrix = np.array([[1,2,3],[4,5,6],[7,8,9]])\n",
    "print(matrix)\n",
    "print(\"***********************************************************\")\n",
    "#Reshape\n",
    "print(matrix.reshape(9,1))\n",
    "print(\"***********************************************************\")\n",
    "#Here -1 says as many columns as needed and 1 row\n",
    "print(matrix.reshape(1,-1))\n",
    "print(\"***********************************************************\")\n",
    "#If we provide only 1 value Reshape would return a 1-d array of that length\n",
    "print(matrix.reshape(9))\n",
    "print(\"***********************************************************\")\n",
    "#We can also use the Flatten method to convert a matrix to 1-d array\n",
    "print(matrix.flatten())"
   ]
  },
  {
   "cell_type": "code",
   "execution_count": 24,
   "metadata": {},
   "outputs": [
    {
     "name": "stdout",
     "output_type": "stream",
     "text": [
      "[[1 2 3]\n",
      " [4 5 6]\n",
      " [7 8 9]]\n",
      "***********************************************************\n",
      "[[1 4 7]\n",
      " [2 5 8]\n",
      " [3 6 9]]\n"
     ]
    }
   ],
   "source": [
    "#Transposing a vector or a Matrix\n",
    "#Create a Matrix\n",
    "matrix = np.array([[1,2,3],[4,5,6],[7,8,9]])\n",
    "print(matrix)\n",
    "print(\"***********************************************************\")\n",
    "#Transpose the matrix\n",
    "print(matrix.T)"
   ]
  },
  {
   "cell_type": "code",
   "execution_count": 25,
   "metadata": {},
   "outputs": [
    {
     "name": "stdout",
     "output_type": "stream",
     "text": [
      "[[1 2 3]\n",
      " [4 5 6]\n",
      " [7 8 9]]\n",
      "***********************************************************\n",
      "-9.51619735392994e-16\n",
      "***********************************************************\n",
      "2\n"
     ]
    }
   ],
   "source": [
    "#Finding the Determinant and Rank of a Matrix\n",
    "#Create a Matrix\n",
    "matrix = np.array([[1,2,3],[4,5,6],[7,8,9]])\n",
    "print(matrix)\n",
    "print(\"***********************************************************\")\n",
    "#Calculate the Determinant\n",
    "print(np.linalg.det(matrix))\n",
    "print(\"***********************************************************\")\n",
    "#Calculate the Rank\n",
    "print(np.linalg.matrix_rank(matrix))"
   ]
  },
  {
   "cell_type": "code",
   "execution_count": 26,
   "metadata": {},
   "outputs": [
    {
     "name": "stdout",
     "output_type": "stream",
     "text": [
      "[[1 2 3]\n",
      " [4 5 6]\n",
      " [7 8 9]]\n",
      "***********************************************************\n",
      "[1 5 9]\n",
      "***********************************************************\n",
      "[2 6]\n",
      "***********************************************************\n",
      "[4 8]\n"
     ]
    }
   ],
   "source": [
    "# Getting the Diagonal of a Matrix\n",
    "\n",
    "#Create a Matrix\n",
    "matrix = np.array([[1,2,3],[4,5,6],[7,8,9]])\n",
    "print(matrix)\n",
    "print(\"***********************************************************\")\n",
    "#Print the Principal diagonal\n",
    "print(matrix.diagonal())\n",
    "print(\"***********************************************************\")\n",
    "#Print the diagonal one above the Principal diagonal\n",
    "print(matrix.diagonal(offset=1))\n",
    "print(\"***********************************************************\")\n",
    "#Print the diagonal one below Principal diagonal\n",
    "print(matrix.diagonal(offset=-1))"
   ]
  },
  {
   "cell_type": "code",
   "execution_count": 30,
   "metadata": {},
   "outputs": [
    {
     "name": "stdout",
     "output_type": "stream",
     "text": [
      "[[1 2 3]\n",
      " [4 5 6]\n",
      " [7 8 9]]\n",
      "***********************************************************\n",
      "15\n"
     ]
    }
   ],
   "source": [
    "#Calculating the trace of a Matrix (Sum of the diagnol)\n",
    "#Create a Matrix\n",
    "matrix = np.array([[1,2,3],[4,5,6],[7,8,9]])\n",
    "print(matrix)\n",
    "print(\"***********************************************************\")\n",
    "#Print the Trace\n",
    "print(matrix.trace(\n",
    "   # offset=1\n",
    "))"
   ]
  },
  {
   "cell_type": "code",
   "execution_count": 32,
   "metadata": {},
   "outputs": [
    {
     "name": "stdout",
     "output_type": "stream",
     "text": [
      "[[1 2 3]\n",
      " [4 5 6]\n",
      " [7 8 9]]\n",
      "***********************************************************\n",
      "[ 1.61168440e+01 -1.11684397e+00 -9.75918483e-16]\n",
      "***********************************************************\n",
      "[[-0.23197069 -0.78583024  0.40824829]\n",
      " [-0.52532209 -0.08675134 -0.81649658]\n",
      " [-0.8186735   0.61232756  0.40824829]]\n",
      "***********************************************************\n"
     ]
    }
   ],
   "source": [
    "# Finding Eigenvalues and Eigenvectors -->Change only in scale(not direction)\n",
    "\n",
    "#A*v =K*v #A square matrix ,K contains eigenvlaues and v contains eigenvectors\n",
    "\n",
    "#Create a Matrix\n",
    "matrix = np.array([[1,2,3],[4,5,6],[7,8,9]])\n",
    "print(matrix)\n",
    "print(\"***********************************************************\")\n",
    "# Calculate the Eigenvalues and Eigenvectors of that Matrix\n",
    "eigenvalues ,eigenvectors=np.linalg.eig(matrix)\n",
    "print(eigenvalues)\n",
    "print(\"***********************************************************\")\n",
    "print(eigenvectors)\n",
    "print(\"***********************************************************\")\n"
   ]
  },
  {
   "cell_type": "code",
   "execution_count": 33,
   "metadata": {},
   "outputs": [
    {
     "name": "stdout",
     "output_type": "stream",
     "text": [
      "[1 2 3]\n",
      "***********************************************************\n",
      "[4 5 6]\n",
      "***********************************************************\n",
      "32\n",
      "***********************************************************\n",
      "32\n"
     ]
    }
   ],
   "source": [
    "#Calculating Dot Products\n",
    "#Create vector-1\n",
    "vector_1 = np.array([ 1,2,3 ])\n",
    "print(vector_1)\n",
    "print(\"***********************************************************\")\n",
    "#Create vector-2\n",
    "vector_2 = np.array([ 4,5,6 ])\n",
    "print(vector_2)\n",
    "print(\"***********************************************************\")\n",
    "#Calculate Dot Product\n",
    "print(np.dot(vector_1,vector_2))\n",
    "print(\"***********************************************************\")\n",
    "#Alternatively you can use @ to calculate dot products\n",
    "print(vector_1 @ vector_2)"
   ]
  },
  {
   "cell_type": "code",
   "execution_count": 34,
   "metadata": {},
   "outputs": [
    {
     "name": "stdout",
     "output_type": "stream",
     "text": [
      "[[1 2 3]\n",
      " [4 5 6]\n",
      " [7 8 9]]\n",
      "***********************************************************\n",
      "[[7 8 9]\n",
      " [4 5 6]\n",
      " [1 2 3]]\n",
      "***********************************************************\n",
      "[[ 8 10 12]\n",
      " [ 8 10 12]\n",
      " [ 8 10 12]]\n",
      "***********************************************************\n",
      "[[-6 -6 -6]\n",
      " [ 0  0  0]\n",
      " [ 6  6  6]]\n",
      "***********************************************************\n",
      "[[ 7 16 27]\n",
      " [16 25 36]\n",
      " [ 7 16 27]]\n"
     ]
    }
   ],
   "source": [
    "#Adding, Subtracting and Multiplying Matrices\n",
    "\n",
    "#Create Matrix-1\n",
    "matrix_1 = np.array([[1,2,3],[4,5,6],[7,8,9]])\n",
    "print(matrix_1)\n",
    "print(\"***********************************************************\")\n",
    "#Create Matrix-2\n",
    "matrix_2 = np.array([[7,8,9],[4,5,6],[1,2,3]])\n",
    "print(matrix_2)\n",
    "print(\"***********************************************************\")\n",
    "#Add the 2 Matrices\n",
    "print(np.add(matrix_1,matrix_2))\n",
    "print(\"***********************************************************\")\n",
    "#Subtraction\n",
    "print(np.subtract(matrix_1,matrix_2))\n",
    "print(\"***********************************************************\")\n",
    "#Multiplication(Element wise, not Dot Product)\n",
    "print(matrix_1*matrix_2)"
   ]
  },
  {
   "cell_type": "code",
   "execution_count": 36,
   "metadata": {},
   "outputs": [
    {
     "name": "stdout",
     "output_type": "stream",
     "text": [
      "[[1 2 3]\n",
      " [4 5 6]\n",
      " [7 8 9]]\n",
      "***********************************************************\n",
      "[[ 3.15251974e+15 -6.30503948e+15  3.15251974e+15]\n",
      " [-6.30503948e+15  1.26100790e+16 -6.30503948e+15]\n",
      " [ 3.15251974e+15 -6.30503948e+15  3.15251974e+15]]\n"
     ]
    }
   ],
   "source": [
    "#Inverting a Matrix (the inverse of a Square Matrix)\n",
    "#Create a Matrix\n",
    "matrix = np.array([[1,2,3],[4,5,6],[7,8,9]])\n",
    "print(matrix)\n",
    "print(\"***********************************************************\")\n",
    "#Calculate its inverse\n",
    "print(np.linalg.inv(matrix))"
   ]
  },
  {
   "cell_type": "code",
   "execution_count": 37,
   "metadata": {},
   "outputs": [
    {
     "name": "stdout",
     "output_type": "stream",
     "text": [
      "[5 8 9]\n",
      "[-0.60434568  0.10224438 -1.21187015]\n"
     ]
    }
   ],
   "source": [
    "#Generating Random values\n",
    "#Set seed\n",
    "np.random.seed(1)\n",
    "#Generate 3 random integers b/w 1 and 10\n",
    "print(np.random.randint(0,11,3))\n",
    "#Draw 3 numbers from a normal distribution with mean 1.0 and std 2.0\n",
    "print(np.random.normal(1.0,2.0,3))"
   ]
  },
  {
   "cell_type": "code",
   "execution_count": null,
   "metadata": {},
   "outputs": [],
   "source": []
  }
 ],
 "metadata": {
  "kernelspec": {
   "display_name": "Python 3",
   "language": "python",
   "name": "python3"
  },
  "language_info": {
   "codemirror_mode": {
    "name": "ipython",
    "version": 3
   },
   "file_extension": ".py",
   "mimetype": "text/x-python",
   "name": "python",
   "nbconvert_exporter": "python",
   "pygments_lexer": "ipython3",
   "version": "3.7.6"
  }
 },
 "nbformat": 4,
 "nbformat_minor": 4
}
